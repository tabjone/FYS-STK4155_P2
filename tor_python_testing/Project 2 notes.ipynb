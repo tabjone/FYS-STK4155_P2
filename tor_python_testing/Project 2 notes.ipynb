{
 "cells": [
  {
   "cell_type": "markdown",
   "metadata": {},
   "source": [
    "\n",
    "Step 1: take the derivative (gradient) of the loss function for each of the parameters.\n",
    "Step 2: Pick random values for the parameters\n",
    "Step 3: Plug parameter values into gradient\n",
    "Step 4: Calculate step_size = slope * learning rate\n",
    "Step 5: Calculate new parameters\n",
    "Go back to step 3 untill step size is small or reached max number of steps\n",
    "\n",
    "To evaluate if step size is small we take the 2-norm of beta."
   ]
  },
  {
   "cell_type": "markdown",
   "metadata": {},
   "source": [
    "Aim of project: Neural networks against linear regression with stocastic gradient decent. On: cancer data and regular function."
   ]
  }
 ],
 "metadata": {
  "kernelspec": {
   "display_name": "Python 3",
   "language": "python",
   "name": "python3"
  },
  "language_info": {
   "codemirror_mode": {
    "name": "ipython",
    "version": 3
   },
   "file_extension": ".py",
   "mimetype": "text/x-python",
   "name": "python",
   "nbconvert_exporter": "python",
   "pygments_lexer": "ipython3",
   "version": "3.7.1"
  }
 },
 "nbformat": 4,
 "nbformat_minor": 4
}
